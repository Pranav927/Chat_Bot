{
 "cells": [
  {
   "cell_type": "code",
   "execution_count": 1,
   "id": "2a81c05d",
   "metadata": {},
   "outputs": [],
   "source": [
    "from langchain.document_loaders import TextLoader"
   ]
  },
  {
   "cell_type": "code",
   "execution_count": 2,
   "id": "2648800b",
   "metadata": {},
   "outputs": [
    {
     "data": {
      "text/plain": [
       "[Document(page_content='The Aditya Birla Group, with seven listed firms in its fold, added around Rs 1.91 lakh crore in market capitalisation in the last year. In terms of market capitalisation, it currently ranks as the seventh largest conglomerate in the country.\\n\\nHindalco, the second largest company in the group is the news because of its subsidiary Novelis filing for an initial public offering in the US. Hindalco, is on a path to recovery, with global growth looking up, spelling good news for its overseas subsidiary Novelis, although the latterâ€™s capex guidance has met with resistance from the street.\\n\\nThe cement business has been the crown jewel of the group and continued to lead the show. Notwithstanding, the entry of a large corporate group, the stock did well thanks to buoyant demand coming from post-COVID recovery, boosted by government spending and housing revival. Operating margins also got a boost from benign input prices. While demand revival might pause due to upcoming elections, the long-term trajectory remains strong and Ultratechâ€™s pan-India operations and efficiency should stand in good stead.\\n\\nVodafone, which has been facing business challenges with steady erosion in its customer base, got a sentiment boost with recent news reports suggesting a potential equity infusion by the promoters.\\n\\nAditya Birla Fashion hasnâ€™t had the best of times owing to twin challenges of subdued urban sentiment and the task of improving the profitability of its numerous acquisitions. Aditya Birla Capital, in contrast, has had a strong show with the business growth accelerating under the new CEO. However, given the cautious sentiment towards unsecured lending, growth in the financing business could moderate.', metadata={'source': 'C:\\\\Users\\\\prana\\\\Downloads\\\\Aditi\\\\Pranav\\\\Portfolio_Projects\\\\News_article.txt'})]"
      ]
     },
     "execution_count": 2,
     "metadata": {},
     "output_type": "execute_result"
    }
   ],
   "source": [
    "file_path = r\"C:\\Users\\prana\\Downloads\\Aditi\\Pranav\\Portfolio_Projects\\News_article.txt\"\n",
    "loader = TextLoader(file_path)\n",
    "data = loader.load()\n",
    "data"
   ]
  },
  {
   "cell_type": "code",
   "execution_count": 35,
   "id": "42837802",
   "metadata": {},
   "outputs": [],
   "source": [
    "text = \"The Aditya Birla Group, with seven listed firms in its fold, added around Rs 1.91 lakh crore in market capitalisation in the last year. In terms of market capitalisation, it currently ranks as the seventh largest conglomerate in the country.\\n\\nHindalco, the second largest company in the group is the news because of its subsidiary Novelis filing for an initial public offering in the US. Hindalco, is on a path to recovery, with global growth looking up, spelling good news for its overseas subsidiary Novelis, although the latterâ€™s capex guidance has met with resistance from the street.\\n\\nThe cement business has been the crown jewel of the group and continued to lead the show. Notwithstanding, the entry of a large corporate group, the stock did well thanks to buoyant demand coming from post-COVID recovery, boosted by government spending and housing revival. Operating margins also got a boost from benign input prices. While demand revival might pause due to upcoming elections, the long-term trajectory remains strong and Ultratechâ€™s pan-India operations and efficiency should stand in good stead.\\n\\nVodafone, which has been facing business challenges with steady erosion in its customer base, got a sentiment boost with recent news reports suggesting a potential equity infusion by the promoters.\\n\\nAditya Birla Fashion hasnâ€™t had the best of times owing to twin challenges of subdued urban sentiment and the task of improving the profitability of its numerous acquisitions. Aditya Birla Capital, in contrast, has had a strong show with the business growth accelerating under the new CEO. However, given the cautious sentiment towards unsecured lending, growth in the financing business could moderate.\""
   ]
  },
  {
   "cell_type": "code",
   "execution_count": 37,
   "id": "8347efc4",
   "metadata": {},
   "outputs": [
    {
     "data": {
      "text/plain": [
       "11"
      ]
     },
     "execution_count": 37,
     "metadata": {},
     "output_type": "execute_result"
    }
   ],
   "source": [
    "from langchain.text_splitter import RecursiveCharacterTextSplitter\n",
    "r_splitter = RecursiveCharacterTextSplitter(\n",
    "    separators = [\"\\n\\n\", \"\\n\", \" \", \".\"],\n",
    "    chunk_size = 200,\n",
    "    chunk_overlap = 0\n",
    ")\n",
    "chunks = r_splitter.split_text(text)\n",
    "len(chunks)"
   ]
  },
  {
   "cell_type": "code",
   "execution_count": 29,
   "id": "8ffc392b",
   "metadata": {},
   "outputs": [
    {
     "name": "stdout",
     "output_type": "stream",
     "text": [
      "196\n",
      "44\n",
      "199\n",
      "147\n",
      "195\n",
      "198\n",
      "121\n",
      "197\n",
      "199\n",
      "195\n",
      "9\n"
     ]
    }
   ],
   "source": [
    "for chunk in chunks:\n",
    "    print(len(chunk))"
   ]
  },
  {
   "cell_type": "code",
   "execution_count": null,
   "id": "80ce9063",
   "metadata": {},
   "outputs": [],
   "source": [
    "!pip install faiss-cpu\n",
    "!pip install sentence-transformers"
   ]
  },
  {
   "cell_type": "code",
   "execution_count": null,
   "id": "e44e03d5",
   "metadata": {},
   "outputs": [],
   "source": [
    "!pip install streamlit"
   ]
  },
  {
   "cell_type": "code",
   "execution_count": 41,
   "id": "cad03062",
   "metadata": {},
   "outputs": [],
   "source": [
    "import os\n",
    "\n",
    "import streamlit as st\n",
    "import pickle\n",
    "import time\n",
    "import langchain\n",
    "from langchain import OpenAI\n",
    "from langchain.chains import RetrievalQAWithSourcesChain\n",
    "from langchain.chains.qa_with_sources.loading import load_qa_with_sources_chain\n",
    "from langchain.text_splitter import RecursiveCharacterTextSplitter\n",
    "from langchain.document_loaders import TextLoader\n",
    "from langchain.embeddings import OpenAIEmbeddings\n",
    "from langchain.vectorstores import FAISS"
   ]
  },
  {
   "cell_type": "code",
   "execution_count": 42,
   "id": "ed0fce82",
   "metadata": {},
   "outputs": [],
   "source": [
    "os.environ['OPENAI_API_KEY'] = 'API_key'"
   ]
  },
  {
   "cell_type": "code",
   "execution_count": null,
   "id": "57cd5485",
   "metadata": {},
   "outputs": [],
   "source": [
    "LLM = OpenAI(temperature = 0.9, max_tokens = 500)\n",
    "\n",
    "file_path = r\"C:\\Users\\prana\\Downloads\\Aditi\\Pranav\\Portfolio_Projects\\News_article.txt\"\n",
    "loader = TextLoader(file_path)\n",
    "data = loader.load()\n",
    "data"
   ]
  },
  {
   "cell_type": "code",
   "execution_count": 45,
   "id": "9e4f7a1d",
   "metadata": {},
   "outputs": [
    {
     "data": {
      "text/plain": [
       "4"
      ]
     },
     "execution_count": 45,
     "metadata": {},
     "output_type": "execute_result"
    }
   ],
   "source": [
    "text_splitter = RecursiveCharacterTextSplitter(\n",
    "    chunk_size = 600,\n",
    "    chunk_overlap = 200\n",
    ")\n",
    "docs = text_splitter.split_documents(data)\n",
    "len(docs)"
   ]
  },
  {
   "cell_type": "code",
   "execution_count": 46,
   "id": "dc68457d",
   "metadata": {},
   "outputs": [
    {
     "data": {
      "text/plain": [
       "Document(page_content='The Aditya Birla Group, with seven listed firms in its fold, added around Rs 1.91 lakh crore in market capitalisation in the last year. In terms of market capitalisation, it currently ranks as the seventh largest conglomerate in the country.\\n\\nHindalco, the second largest company in the group is the news because of its subsidiary Novelis filing for an initial public offering in the US. Hindalco, is on a path to recovery, with global growth looking up, spelling good news for its overseas subsidiary Novelis, although the latterâ€™s capex guidance has met with resistance from the street.', metadata={'source': 'C:\\\\Users\\\\prana\\\\Downloads\\\\Aditi\\\\Pranav\\\\Portfolio_Projects\\\\News_article.txt'})"
      ]
     },
     "execution_count": 46,
     "metadata": {},
     "output_type": "execute_result"
    }
   ],
   "source": [
    "docs[0]"
   ]
  },
  {
   "cell_type": "code",
   "execution_count": null,
   "id": "82637c20",
   "metadata": {},
   "outputs": [],
   "source": [
    "!pip install tiktoken"
   ]
  },
  {
   "cell_type": "code",
   "execution_count": null,
   "id": "cd8ba60a",
   "metadata": {},
   "outputs": [],
   "source": [
    "embeddings = OpenAIEmbeddings()\n",
    "vectorindex_openai = FAISS.from_documents(docs, embeddings)"
   ]
  },
  {
   "cell_type": "code",
   "execution_count": null,
   "id": "15922f5b",
   "metadata": {},
   "outputs": [],
   "source": [
    "batch_size = 100  # Adjust batch size as needed\n",
    "embeddings = OpenAIEmbeddings()\n",
    "vectorindex_openai = FAISS.from_documents(docs, embeddings, batch_size)"
   ]
  },
  {
   "cell_type": "code",
   "execution_count": null,
   "id": "a515f535",
   "metadata": {},
   "outputs": [],
   "source": [
    "file_path=\"vector_index.pk1\"\n",
    "\n",
    "with open(file_path, \"wb\") as f: \n",
    "    pickle.dump(vectorindex_openai, f)"
   ]
  },
  {
   "cell_type": "code",
   "execution_count": null,
   "id": "d5712795",
   "metadata": {},
   "outputs": [],
   "source": [
    "if os.path.exists(file_path):\n",
    "    with open(file_path, \"rb\") as f: \n",
    "        vectorIndex = pickle.load(f)"
   ]
  },
  {
   "cell_type": "code",
   "execution_count": null,
   "id": "b062dad6",
   "metadata": {},
   "outputs": [],
   "source": [
    "chain = RetrievalQAWithSourcesChain.from_llm(llm = llm, retriever = vectorIndex.as_retriever())\n",
    "chain"
   ]
  },
  {
   "cell_type": "code",
   "execution_count": null,
   "id": "87bd7656",
   "metadata": {},
   "outputs": [],
   "source": [
    "query = \"How much capital was added by Aditya Birla Group last year?\"\n",
    "\n",
    "langchain.debug = True\n",
    "chain({\"question\": query}, return_only_outputs = True)"
   ]
  }
 ],
 "metadata": {
  "kernelspec": {
   "display_name": "Python 3 (ipykernel)",
   "language": "python",
   "name": "python3"
  },
  "language_info": {
   "codemirror_mode": {
    "name": "ipython",
    "version": 3
   },
   "file_extension": ".py",
   "mimetype": "text/x-python",
   "name": "python",
   "nbconvert_exporter": "python",
   "pygments_lexer": "ipython3",
   "version": "3.10.9"
  }
 },
 "nbformat": 4,
 "nbformat_minor": 5
}
